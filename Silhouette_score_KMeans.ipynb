{
  "nbformat": 4,
  "nbformat_minor": 0,
  "metadata": {
    "colab": {
      "provenance": [],
      "mount_file_id": "1q91XTurdHLTIKM1VJ5QDN-8Zin8yQoSn",
      "authorship_tag": "ABX9TyMPaobzEu1QbDWXZQQe1O8q",
      "include_colab_link": true
    },
    "kernelspec": {
      "name": "python3",
      "display_name": "Python 3"
    },
    "language_info": {
      "name": "python"
    }
  },
  "cells": [
    {
      "cell_type": "markdown",
      "metadata": {
        "id": "view-in-github",
        "colab_type": "text"
      },
      "source": [
        "<a href=\"https://colab.research.google.com/github/rushmila/machine_learning/blob/main/Silhouette_score_KMeans.ipynb\" target=\"_parent\"><img src=\"https://colab.research.google.com/assets/colab-badge.svg\" alt=\"Open In Colab\"/></a>"
      ]
    },
    {
      "cell_type": "code",
      "source": [
        "from google.colab import drive\n",
        "drive.mount('/content/drive/')"
      ],
      "metadata": {
        "colab": {
          "base_uri": "https://localhost:8080/"
        },
        "id": "0UeK3HP1wr-b",
        "outputId": "95b53f10-ea6c-4f8d-a60b-92d095271cc6"
      },
      "execution_count": 2,
      "outputs": [
        {
          "output_type": "stream",
          "name": "stdout",
          "text": [
            "Mounted at /content/drive/\n"
          ]
        }
      ]
    },
    {
      "cell_type": "code",
      "execution_count": 6,
      "metadata": {
        "colab": {
          "base_uri": "https://localhost:8080/",
          "height": 479
        },
        "id": "oIKXLHEtwOUX",
        "outputId": "bd272f44-d13a-49a6-e27e-8e0c5682b6e8"
      },
      "outputs": [
        {
          "output_type": "stream",
          "name": "stdout",
          "text": [
            "KMeans(n_clusters=3, n_init='auto', random_state=0) Silhouette score:  0.6901586958919508\n",
            "====================\n",
            "Best score:  0.7069535268866294\n",
            "[KMeans(n_clusters=2, n_init='auto', random_state=0), KMeans(n_clusters=3, n_init='auto', random_state=0), KMeans(n_clusters=4, n_init='auto', random_state=0), KMeans(n_clusters=5, n_init='auto', random_state=0), KMeans(n_clusters=6, n_init='auto', random_state=0), KMeans(n_clusters=7, n_init='auto', random_state=0), KMeans(n_init='auto', random_state=0), KMeans(n_clusters=9, n_init='auto', random_state=0)]\n",
            "[0.4897248119907599, 0.6901586958919508, 0.7069535268866294, 0.6522125334935149, 0.5731027297895599, 0.5056862595611255, 0.5041434217450271, 0.5013396970341815]\n",
            "[0.7069535268866294, 4]\n",
            "0.7069535268866294\n",
            "best_k:  4\n"
          ]
        },
        {
          "output_type": "display_data",
          "data": {
            "text/plain": [
              "<Figure size 800x300 with 1 Axes>"
            ],
            "image/png": "[encoded data removed]"
          },
          "metadata": {}
        }
      ],
      "source": [
        "import numpy as np\n",
        "import os\n",
        "from sklearn.datasets import make_blobs\n",
        "from sklearn.cluster import KMeans\n",
        "from sklearn.metrics import silhouette_score\n",
        "import pandas as pd\n",
        "from sklearn.model_selection import StratifiedShuffleSplit\n",
        "import matplotlib.pyplot as plt\n",
        "import seaborn as sns\n",
        "\n",
        "def get_data():\n",
        "    raw_data = pd.read_csv('/content/drive/MyDrive/Colab_Notebooks/data/dataset_clustering.csv') # in case of csv data\n",
        "    return raw_data\n",
        "\n",
        "\n",
        "data_frame = get_data()\n",
        "\n",
        "\n",
        "kmeans = KMeans(n_clusters = 3, random_state = 0, n_init='auto')\n",
        "kmeans.fit(data_frame)\n",
        "\n",
        "from sklearn.metrics import silhouette_score\n",
        "\n",
        "score_3 = silhouette_score(data_frame, kmeans.labels_) #metric='euclidean'\n",
        "\n",
        "print(kmeans, \"Silhouette score: \", score_3)\n",
        "print('====================')\n",
        "\n",
        "## All the silhouette scores\n",
        "K = range(2, 10)\n",
        "fits = []\n",
        "score = []\n",
        "model_score = []\n",
        "df = pd.DataFrame()\n",
        "\n",
        "for k in K:\n",
        "    # train the model for current value of k on training data\n",
        "    model = KMeans(n_clusters = k, random_state = 0, n_init='auto').fit(data_frame)\n",
        "\n",
        "    # append the model to fits\n",
        "    fits.append(model)\n",
        "\n",
        "    # Append the silhouette score to scores\n",
        "    score.append(silhouette_score(data_frame, model.labels_, metric='euclidean'))\n",
        "\n",
        "    ##\n",
        "    ss = silhouette_score(data_frame, model.labels_)\n",
        "\n",
        "    model_score.append([ss, model.n_clusters])\n",
        "\n",
        "best_index = np.argmax(score)\n",
        "best_k = K[best_index]\n",
        "best_score = score[best_index]\n",
        "\n",
        "m = np.array(model_score).argmax()\n",
        "print('Best score: ', max(score))\n",
        "print(fits)\n",
        "print(score)\n",
        "\n",
        "a = np.argmax(model_score, axis=0)\n",
        "print(max(model_score))\n",
        "print(best_score)\n",
        "# sns.lineplot(x = K, y = score)\n",
        "\n",
        "plt.figure(figsize=(8, 3))\n",
        "plt.plot(K, score, \"bo-\")\n",
        "plt.xlabel(\"$k$\", fontsize=14)\n",
        "plt.ylabel(\"Silhouette score\", fontsize=14)\n",
        "plt.plot(best_k, best_score, \"rs\")\n",
        "#plt.show()\n",
        "plt.savefig('Silhouette_score.png')\n",
        "\n",
        "print(\"best_k: \", best_k)\n"
      ]
    }
  ]
}